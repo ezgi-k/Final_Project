{
 "cells": [
  {
   "cell_type": "markdown",
   "metadata": {},
   "source": [
    "# Analysis of Traffic Accidents in UK and Predictions"
   ]
  },
  {
   "cell_type": "markdown",
   "metadata": {},
   "source": [
    "## Team Members"
   ]
  },
  {
   "cell_type": "markdown",
   "metadata": {},
   "source": [
    "Ezgi Kızılay // kizilay18@itu.edu.tr // 090200740"
   ]
  },
  {
   "cell_type": "markdown",
   "metadata": {},
   "source": [
    "## Dataset"
   ]
  },
  {
   "cell_type": "markdown",
   "metadata": {},
   "source": [
    "For this project I will use one dataset consisting of 1.6 million data about traffic accidents in UK between 2005-2007, 2009-2011 and 2012-2014."
   ]
  },
  {
   "cell_type": "markdown",
   "metadata": {},
   "source": [
    "My dataset is taken from Kaggle: [Dataset](https://www.kaggle.com/datasets/daveianhickey/2000-16-traffic-flow-england-scotland-wales?select=accidents_2012_to_2014.csv) "
   ]
  },
  {
   "cell_type": "markdown",
   "metadata": {},
   "source": [
    "Accidents data is split across three CSV files. The dataset gives details about accidents in UK. These three files together constitute 1.6 million traffic accidents. The total time period is 2005 through 2014, but 2008 is missing. Date, time, location, longitude, latitude, police force, road type, road class, number of casualties, speed limit, light conditions, weather conditions, urban or rural area are the some known information that I can use for my project. "
   ]
  },
  {
   "cell_type": "markdown",
   "metadata": {},
   "source": [
    "**Dataset References** : Dave Fisher-Hickey, 2017. Kaggle, accessed Nov 2022."
   ]
  },
  {
   "cell_type": "markdown",
   "metadata": {},
   "source": [
    "With this data, I want to investigate the accidents in UK for finding the reasons behind them. I believe that this study can inspire about traffic accidents all over the world. One of the main purpose of this project is analyzing the conditions of accidents and related results. I want to visualize my analysis with graphics. More then, I want to make a model to predict outcome of accident under known conditions. \n",
    "\n",
    "I aim to find answers to the following questions at the end of the project:\n",
    "\n",
    "- How does the change in traffic flow affect accidents?\n",
    "- What increases accident rates?\n",
    "- Can we predict accident rates over time?\n",
    "- How does road types affect accidents?\n",
    "- How did rural and urban areas differ?\n",
    "- Can we predict accident outcomes?\n",
    "- How does light conditions affect accidents?\n",
    "- How does weather conditions affet accidents\n",
    "\n",
    "I am planning to use linear regression for analysing the dataset and decision tree algorithms for prediction. I can use correlation numbers and t-test for comparison. I can use confusion matrix for accuracing the models."
   ]
  }
 ],
 "metadata": {
  "celltoolbar": "Raw Cell Format",
  "kernelspec": {
   "display_name": "Python 3",
   "language": "python",
   "name": "python3"
  },
  "language_info": {
   "codemirror_mode": {
    "name": "ipython",
    "version": 3
   },
   "file_extension": ".py",
   "mimetype": "text/x-python",
   "name": "python",
   "nbconvert_exporter": "python",
   "pygments_lexer": "ipython3",
   "version": "3.7.4"
  }
 },
 "nbformat": 4,
 "nbformat_minor": 2
}
